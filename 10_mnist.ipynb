{
 "cells": [
  {
   "cell_type": "markdown",
   "metadata": {},
   "source": [
    "Copied from https://mxnet.incubator.apache.org/tutorials/python/mnist.html"
   ]
  },
  {
   "cell_type": "markdown",
   "metadata": {},
   "source": [
    "# Handwritten Digit Recognition\n",
    "\n",
    "In this tutorial, we'll give you a step by step walk-through of how to build a hand-written digit classifier using the [MNIST](https://en.wikipedia.org/wiki/MNIST_database) dataset. For someone new to deep learning, this exercise is arguably the \"Hello World\" equivalent.\n",
    "\n",
    "MNIST is a widely used dataset for the hand-written digit classification task. It consists of 70,000 labeled 28x28 pixel grayscale images of hand-written digits. The dataset is split into 60,000 training images and 10,000 test images. There are 10 classes (one for each of the 10 digits). The task at hand is to train a model using the 60,000 training images and subsequently test its classification accuracy on the 10,000 test images.\n",
    "\n",
    "![png](https://raw.githubusercontent.com/dmlc/web-data/master/mxnet/example/mnist.png)\n",
    "\n",
    "**Figure 1:** Sample images from the MNIST dataset.\n",
    "\n",
    "## Prerequisites\n",
    "To complete this tutorial, we need:  \n",
    "\n",
    "- MXNet version 0.10 or later. See the installation instructions for your operating system in [Setup and Installation](http://mxnet.io/install/index.html).\n",
    "\n",
    "- [Python Requests](http://docs.python-requests.org/en/master/) and [Jupyter Notebook](http://jupyter.org/index.html).\n",
    "\n",
    "```\n",
    "$ pip install requests jupyter\n",
    "```\n",
    "\n",
    "## Loading Data\n",
    "\n",
    "Before we define the model, let's first fetch the [MNIST](http://yann.lecun.com/exdb/mnist/) dataset.\n",
    "\n",
    "The following source code downloads and loads the images and the corresponding labels into memory."
   ]
  },
  {
   "cell_type": "code",
   "execution_count": 1,
   "metadata": {},
   "outputs": [],
   "source": [
    "import mxnet as mx\n",
    "mnist = mx.test_utils.get_mnist()\n",
    "\n",
    "# Fix the seed\n",
    "mx.random.seed(42)\n",
    "\n",
    "# Set the compute context, GPU is available otherwise CPU\n",
    "ctx = mx.gpu() if mx.test_utils.list_gpus() else mx.cpu()"
   ]
  },
  {
   "cell_type": "markdown",
   "metadata": {},
   "source": [
    "After running the above source code, the entire MNIST dataset should be fully loaded into memory. Note that for large datasets it is not feasible to pre-load the entire dataset first like we did here. What is needed is a mechanism by which we can quickly and efficiently stream data directly from the source. MXNet Data iterators come to the rescue here by providing exactly that. Data iterator is the mechanism by which we feed input data into an MXNet training algorithm and they are very simple to initialize and use and are optimized for speed. During training, we typically process training samples in small batches and over the entire training lifetime will end up processing each training example multiple times. In this tutorial, we'll configure the data iterator to feed examples in batches of 100. Keep in mind that each example is a 28x28 grayscale image and the corresponding label.\n",
    "\n",
    "Image batches are commonly represented by a 4-D array with shape `(batch_size, num_channels, width, height)`. For the MNIST dataset, since the images are grayscale, there is only one color channel. Also, the images are 28x28 pixels, and so each image has width and height equal to 28. Therefore, the shape of input is `(batch_size, 1, 28, 28)`. Another important consideration is the order of input samples. When feeding training examples, it is critical that we don't feed samples with the same label in succession. Doing so can slow down training.\n",
    "Data iterators take care of this by randomly shuffling the inputs. Note that we only need to shuffle the training data. The order does not matter for test data.\n",
    "\n",
    "The following source code initializes the data iterators for the MNIST dataset. Note that we initialize two iterators: one for train data and one for test data."
   ]
  },
  {
   "cell_type": "code",
   "execution_count": 2,
   "metadata": {},
   "outputs": [],
   "source": [
    "batch_size = 100\n",
    "train_iter = mx.io.NDArrayIter(mnist['train_data'], mnist['train_label'], batch_size, shuffle=True)\n",
    "val_iter = mx.io.NDArrayIter(mnist['test_data'], mnist['test_label'], batch_size)"
   ]
  },
  {
   "cell_type": "markdown",
   "metadata": {},
   "source": [
    "## Training\n",
    "We will cover a couple of approaches for performing the hand written digit recognition task. The first approach makes use of a traditional deep neural network architecture called Multilayer Perceptron (MLP). We'll discuss its drawbacks and use that as a motivation to introduce a second more advanced approach called Convolution Neural Network (CNN) that has proven to work very well for image classification tasks.\n",
    "\n",
    "### Multilayer Perceptron\n",
    "\n",
    "The first approach makes use of a [Multilayer Perceptron](https://en.wikipedia.org/wiki/Multilayer_perceptron) to solve this problem. We'll define the MLP using MXNet's symbolic interface. We begin by creating a place holder variable for the input data. When working with an MLP, we need to flatten our 28x28 images into a flat 1-D structure of 784 (28 * 28) raw pixel values. The order of pixel values in the flattened vector does not matter as long as we are being consistent about how we do this across all images."
   ]
  },
  {
   "cell_type": "code",
   "execution_count": 3,
   "metadata": {},
   "outputs": [],
   "source": [
    "data = mx.sym.var('data')\n",
    "# Flatten the data from 4-D shape into 2-D (batch_size, num_channel*width*height)\n",
    "data = mx.sym.flatten(data=data)"
   ]
  },
  {
   "cell_type": "markdown",
   "metadata": {},
   "source": [
    "One might wonder if we are discarding valuable information by flattening. That is indeed true and we'll cover this more when we talk about convolutional neural networks where we preserve the input shape. For now, we'll go ahead and work with flattened images.\n",
    "\n",
    "MLPs contains several fully connected layers. A fully connected layer or FC layer for short, is one where each neuron in the layer is connected to every neuron in its preceding layer. From a linear algebra perspective, an FC layer applies an [affine transform](https://en.wikipedia.org/wiki/Affine_transformation) to the *n x m* input matrix *X* and outputs a matrix *Y* of size *n x k*, where *k* is the number of neurons in the FC layer. *k* is also referred to as the hidden size. The output *Y* is computed according to the equation *Y = X W<sup>T</sup> + b*. The FC layer has two learnable parameters, the *k x m* weight matrix *W* and the *1 x k* bias vector *b*. The summation of bias vector follows the broadcasting rules explained in [`mxnet.sym.broadcast_to()`](https://mxnet.incubator.apache.org/api/python/symbol/symbol.html#mxnet.symbol.broadcast_to). Conceptually, broadcasting replicates row elements of the bias vector to create an *n x k* matrix before summation.\n",
    "\n",
    "\n",
    "In an MLP, the outputs of most FC layers are fed into an activation function, which applies an element-wise non-linearity. This step is critical and it gives neural networks the ability to classify inputs that are not linearly separable. Common choices for activation functions are sigmoid, tanh, and [rectified linear unit](https://en.wikipedia.org/wiki/Rectifier_%28neural_networks%29) (ReLU). In this example, we'll use the ReLU activation function which has several desirable properties and is typically considered a default choice.\n",
    "\n",
    "The following code declares two fully connected layers with 128 and 64 neurons each. Furthermore, these FC layers are sandwiched between ReLU activation layers each one responsible for performing an element-wise ReLU transformation on the FC layer output."
   ]
  },
  {
   "cell_type": "code",
   "execution_count": 4,
   "metadata": {},
   "outputs": [],
   "source": [
    "# The first fully-connected layer and the corresponding activation function\n",
    "fc1  = mx.sym.FullyConnected(data=data, num_hidden=128)\n",
    "act1 = mx.sym.Activation(data=fc1, act_type=\"relu\")\n",
    "\n",
    "# The second fully-connected layer and the corresponding activation function\n",
    "fc2  = mx.sym.FullyConnected(data=act1, num_hidden = 64)\n",
    "act2 = mx.sym.Activation(data=fc2, act_type=\"relu\")"
   ]
  },
  {
   "cell_type": "markdown",
   "metadata": {},
   "source": [
    "The last fully connected layer often has its hidden size equal to the number of output classes in the dataset. The activation function for this layer will be the softmax function. The Softmax layer maps its input to a probability score for each class of output. During the training stage, a loss function computes the [cross entropy](https://en.wikipedia.org/wiki/Cross_entropy) between the probability distribution (softmax output) predicted by the network and the true probability distribution given by the label.\n",
    "\n",
    "The following source code declares the final fully connected layer of size 10. 10 incidentally is the total number of digits. The output from this layer is fed into a `SoftMaxOutput` layer that performs softmax and cross-entropy loss computation in one go. Note that loss computation only happens during training."
   ]
  },
  {
   "cell_type": "code",
   "execution_count": 5,
   "metadata": {},
   "outputs": [],
   "source": [
    "# MNIST has 10 classes\n",
    "fc3  = mx.sym.FullyConnected(data=act2, num_hidden=10)\n",
    "# Softmax with cross entropy loss\n",
    "mlp  = mx.sym.SoftmaxOutput(data=fc3, name='softmax')"
   ]
  },
  {
   "cell_type": "markdown",
   "metadata": {},
   "source": [
    "![png](https://raw.githubusercontent.com/dmlc/web-data/master/mxnet/image/mlp_mnist.png)\n",
    "\n",
    "**Figure 2:** MLP network architecture for MNIST.\n",
    "\n",
    "Now that both the data iterator and neural network are defined, we can commence training. Here we'll employ the `module` feature in MXNet which provides a high-level abstraction for running training and inference on predefined networks. The module API allows the user to specify appropriate parameters that control how the training proceeds.\n",
    "\n",
    "The following source code initializes a module to train the MLP network we defined above. For our training, we will make use of the stochastic gradient descent (SGD) optimizer. In particular, we'll be using mini-batch SGD. Standard SGD processes train data one example at a time. In practice, this is very slow and one can speed up the process by processing examples in small batches. In this case, our batch size will be 100, which is a reasonable choice. Another parameter we select here is the learning rate, which controls the step size the optimizer takes in search of a solution. We'll pick a learning rate of 0.1, again a reasonable choice. Settings such as batch size and learning rate are what are usually referred to as hyper-parameters. What values we give them can have a great impact on training performance. For the purpose of this tutorial, we'll start with some reasonable and safe values. In other tutorials, we'll discuss how one might go about finding a combination of hyper-parameters for optimal model performance.\n",
    "\n",
    "Typically, one runs the training until convergence, which means that we have learned a good set of model parameters (weights + biases) from the train data. For the purpose of this tutorial, we'll run training for 10 epochs and stop. An epoch is one full pass over the entire train data."
   ]
  },
  {
   "cell_type": "code",
   "execution_count": 6,
   "metadata": {},
   "outputs": [
    {
     "name": "stderr",
     "output_type": "stream",
     "text": [
      "INFO:root:Epoch[0] Batch [100]\tSpeed: 86680.66 samples/sec\taccuracy=0.114059\n",
      "INFO:root:Epoch[0] Batch [200]\tSpeed: 93561.04 samples/sec\taccuracy=0.112900\n",
      "INFO:root:Epoch[0] Batch [300]\tSpeed: 101692.18 samples/sec\taccuracy=0.108800\n",
      "INFO:root:Epoch[0] Batch [400]\tSpeed: 110998.60 samples/sec\taccuracy=0.112100\n",
      "INFO:root:Epoch[0] Batch [500]\tSpeed: 121886.69 samples/sec\taccuracy=0.137200\n",
      "INFO:root:Epoch[0] Train-accuracy=0.221111\n",
      "INFO:root:Epoch[0] Time cost=0.592\n",
      "INFO:root:Epoch[0] Validation-accuracy=0.297000\n",
      "INFO:root:Epoch[1] Batch [100]\tSpeed: 118925.94 samples/sec\taccuracy=0.452970\n",
      "INFO:root:Epoch[1] Batch [200]\tSpeed: 121999.44 samples/sec\taccuracy=0.699900\n",
      "INFO:root:Epoch[1] Batch [300]\tSpeed: 124401.73 samples/sec\taccuracy=0.772100\n",
      "INFO:root:Epoch[1] Batch [400]\tSpeed: 121836.06 samples/sec\taccuracy=0.807200\n",
      "INFO:root:Epoch[1] Batch [500]\tSpeed: 125230.02 samples/sec\taccuracy=0.821900\n",
      "INFO:root:Epoch[1] Train-accuracy=0.840000\n",
      "INFO:root:Epoch[1] Time cost=0.492\n",
      "INFO:root:Epoch[1] Validation-accuracy=0.854100\n",
      "INFO:root:Epoch[2] Batch [100]\tSpeed: 117789.07 samples/sec\taccuracy=0.857327\n",
      "INFO:root:Epoch[2] Batch [200]\tSpeed: 122357.47 samples/sec\taccuracy=0.870000\n",
      "INFO:root:Epoch[2] Batch [300]\tSpeed: 124500.33 samples/sec\taccuracy=0.885600\n",
      "INFO:root:Epoch[2] Batch [400]\tSpeed: 124813.76 samples/sec\taccuracy=0.895400\n",
      "INFO:root:Epoch[2] Batch [500]\tSpeed: 125418.75 samples/sec\taccuracy=0.900800\n",
      "INFO:root:Epoch[2] Train-accuracy=0.909192\n",
      "INFO:root:Epoch[2] Time cost=0.492\n",
      "INFO:root:Epoch[2] Validation-accuracy=0.918400\n",
      "INFO:root:Epoch[3] Batch [100]\tSpeed: 116679.25 samples/sec\taccuracy=0.917426\n",
      "INFO:root:Epoch[3] Batch [200]\tSpeed: 121332.77 samples/sec\taccuracy=0.925800\n",
      "INFO:root:Epoch[3] Batch [300]\tSpeed: 125897.23 samples/sec\taccuracy=0.923600\n",
      "INFO:root:Epoch[3] Batch [400]\tSpeed: 125607.30 samples/sec\taccuracy=0.932000\n",
      "INFO:root:Epoch[3] Batch [500]\tSpeed: 125762.47 samples/sec\taccuracy=0.931800\n",
      "INFO:root:Epoch[3] Train-accuracy=0.934242\n",
      "INFO:root:Epoch[3] Time cost=0.491\n",
      "INFO:root:Epoch[3] Validation-accuracy=0.941900\n",
      "INFO:root:Epoch[4] Batch [100]\tSpeed: 115483.53 samples/sec\taccuracy=0.941188\n",
      "INFO:root:Epoch[4] Batch [200]\tSpeed: 124238.49 samples/sec\taccuracy=0.944500\n",
      "INFO:root:Epoch[4] Batch [300]\tSpeed: 121899.09 samples/sec\taccuracy=0.940100\n",
      "INFO:root:Epoch[4] Batch [400]\tSpeed: 91244.39 samples/sec\taccuracy=0.948900\n",
      "INFO:root:Epoch[4] Batch [500]\tSpeed: 122157.91 samples/sec\taccuracy=0.947000\n",
      "INFO:root:Epoch[4] Train-accuracy=0.949394\n",
      "INFO:root:Epoch[4] Time cost=0.526\n",
      "INFO:root:Epoch[4] Validation-accuracy=0.950200\n",
      "INFO:root:Epoch[5] Batch [100]\tSpeed: 115879.16 samples/sec\taccuracy=0.952376\n",
      "INFO:root:Epoch[5] Batch [200]\tSpeed: 124843.85 samples/sec\taccuracy=0.956200\n",
      "INFO:root:Epoch[5] Batch [300]\tSpeed: 127491.87 samples/sec\taccuracy=0.953200\n",
      "INFO:root:Epoch[5] Batch [400]\tSpeed: 128431.13 samples/sec\taccuracy=0.959400\n",
      "INFO:root:Epoch[5] Batch [500]\tSpeed: 127279.08 samples/sec\taccuracy=0.957700\n",
      "INFO:root:Epoch[5] Train-accuracy=0.957879\n",
      "INFO:root:Epoch[5] Time cost=0.483\n",
      "INFO:root:Epoch[5] Validation-accuracy=0.957200\n",
      "INFO:root:Epoch[6] Batch [100]\tSpeed: 116332.65 samples/sec\taccuracy=0.961980\n",
      "INFO:root:Epoch[6] Batch [200]\tSpeed: 124079.35 samples/sec\taccuracy=0.963800\n",
      "INFO:root:Epoch[6] Batch [300]\tSpeed: 128131.78 samples/sec\taccuracy=0.960400\n",
      "INFO:root:Epoch[6] Batch [400]\tSpeed: 128167.01 samples/sec\taccuracy=0.966900\n",
      "INFO:root:Epoch[6] Batch [500]\tSpeed: 128103.60 samples/sec\taccuracy=0.965300\n",
      "INFO:root:Epoch[6] Train-accuracy=0.964242\n",
      "INFO:root:Epoch[6] Time cost=0.483\n",
      "INFO:root:Epoch[6] Validation-accuracy=0.963000\n",
      "INFO:root:Epoch[7] Batch [100]\tSpeed: 117088.36 samples/sec\taccuracy=0.969010\n",
      "INFO:root:Epoch[7] Batch [200]\tSpeed: 122940.63 samples/sec\taccuracy=0.968500\n",
      "INFO:root:Epoch[7] Batch [300]\tSpeed: 128290.11 samples/sec\taccuracy=0.965100\n",
      "INFO:root:Epoch[7] Batch [400]\tSpeed: 127736.09 samples/sec\taccuracy=0.971700\n",
      "INFO:root:Epoch[7] Batch [500]\tSpeed: 127984.77 samples/sec\taccuracy=0.971700\n",
      "INFO:root:Epoch[7] Train-accuracy=0.969899\n",
      "INFO:root:Epoch[7] Time cost=0.484\n",
      "INFO:root:Epoch[7] Validation-accuracy=0.965200\n",
      "INFO:root:Epoch[8] Batch [100]\tSpeed: 133273.94 samples/sec\taccuracy=0.973069\n",
      "INFO:root:Epoch[8] Batch [200]\tSpeed: 126307.45 samples/sec\taccuracy=0.972400\n",
      "INFO:root:Epoch[8] Batch [300]\tSpeed: 118950.90 samples/sec\taccuracy=0.971500\n",
      "INFO:root:Epoch[8] Batch [400]\tSpeed: 119297.01 samples/sec\taccuracy=0.976500\n",
      "INFO:root:Epoch[8] Batch [500]\tSpeed: 119047.12 samples/sec\taccuracy=0.975100\n",
      "INFO:root:Epoch[8] Train-accuracy=0.974141\n",
      "INFO:root:Epoch[8] Time cost=0.494\n",
      "INFO:root:Epoch[8] Validation-accuracy=0.966300\n",
      "INFO:root:Epoch[9] Batch [100]\tSpeed: 109422.43 samples/sec\taccuracy=0.976832\n",
      "INFO:root:Epoch[9] Batch [200]\tSpeed: 116132.63 samples/sec\taccuracy=0.976400\n",
      "INFO:root:Epoch[9] Batch [300]\tSpeed: 118508.27 samples/sec\taccuracy=0.975500\n",
      "INFO:root:Epoch[9] Batch [400]\tSpeed: 118447.70 samples/sec\taccuracy=0.979700\n",
      "INFO:root:Epoch[9] Batch [500]\tSpeed: 119322.13 samples/sec\taccuracy=0.980000\n",
      "INFO:root:Epoch[9] Train-accuracy=0.977273\n",
      "INFO:root:Epoch[9] Time cost=0.519\n",
      "INFO:root:Epoch[9] Validation-accuracy=0.967100\n"
     ]
    }
   ],
   "source": [
    "import logging\n",
    "logging.getLogger().setLevel(logging.DEBUG)  # logging to stdout\n",
    "# create a trainable module on compute context\n",
    "mlp_model = mx.mod.Module(symbol=mlp, context=ctx)\n",
    "mlp_model.fit(train_iter,  # train data\n",
    "              eval_data=val_iter,  # validation data\n",
    "              optimizer='sgd',  # use SGD to train\n",
    "              optimizer_params={'learning_rate':0.1},  # use fixed learning rate\n",
    "              eval_metric='acc',  # report accuracy during training\n",
    "              batch_end_callback = mx.callback.Speedometer(batch_size, 100), # output progress for each 100 data batches\n",
    "              num_epoch=10)  # train for at most 10 dataset passes"
   ]
  },
  {
   "cell_type": "markdown",
   "metadata": {},
   "source": [
    "### Prediction\n",
    "\n",
    "After the above training completes, we can evaluate the trained model by running predictions on test data. The following source code computes the prediction probability scores for each test image. *prob[i][j]* is the probability that the *i*-th test image contains the *j*-th output class."
   ]
  },
  {
   "cell_type": "code",
   "execution_count": 7,
   "metadata": {},
   "outputs": [],
   "source": [
    "test_iter = mx.io.NDArrayIter(mnist['test_data'], None, batch_size)\n",
    "prob = mlp_model.predict(test_iter)\n",
    "assert prob.shape == (10000, 10)"
   ]
  },
  {
   "cell_type": "markdown",
   "metadata": {},
   "source": [
    "Since the dataset also has labels for all test images, we can compute the accuracy metric as follows:"
   ]
  },
  {
   "cell_type": "code",
   "execution_count": 8,
   "metadata": {},
   "outputs": [
    {
     "name": "stdout",
     "output_type": "stream",
     "text": [
      "EvalMetric: {'accuracy': 0.96709999999999996}\n"
     ]
    }
   ],
   "source": [
    "test_iter = mx.io.NDArrayIter(mnist['test_data'], mnist['test_label'], batch_size)\n",
    "# predict accuracy of mlp\n",
    "acc = mx.metric.Accuracy()\n",
    "mlp_model.score(test_iter, acc)\n",
    "print(acc)\n",
    "assert acc.get()[1] > 0.96, \"Achieved accuracy (%f) is lower than expected (0.96)\" % acc.get()[1]"
   ]
  },
  {
   "cell_type": "markdown",
   "metadata": {},
   "source": [
    "If everything went well, we should see an accuracy value that is around 0.96, which means that we are able to accurately predict the digit in 96% of test images. This is a pretty good result. But as we will see in the next part of this tutorial, we can do a lot better than that.\n",
    "\n",
    "### Convolutional Neural Network\n",
    "\n",
    "Earlier, we briefly touched on a drawback of MLP when we said we need to discard the input image's original shape and flatten it as a vector before we can feed it as input to the MLP's first fully connected layer. Turns out this is an important issue because we don't take advantage of the fact that pixels in the image have natural spatial correlation along the horizontal and vertical axes. A convolutional neural network (CNN) aims to address this problem by using a more structured weight representation. Instead of flattening the image and doing a simple matrix-matrix multiplication, it employs one or more convolutional layers that each performs a 2-D convolution on the input image.\n",
    "\n",
    "A single convolution layer consists of one or more filters that each play the role of a feature detector. During training, a CNN learns appropriate representations (parameters) for these filters. Similar to MLP, the output from the convolutional layer is transformed by applying a non-linearity. Besides the convolutional layer, another key aspect of a CNN is the pooling layer. A pooling layer serves to make the CNN translation invariant: a digit remains the same even when it is shifted left/right/up/down by a few pixels. A pooling layer reduces a *n x m* patch into a single value to make the network less sensitive to the spatial location. Pooling layer is always included after each conv (+ activation) layer in the CNN.\n",
    "\n",
    "The following source code defines a convolutional neural network architecture called LeNet. LeNet is a popular network known to work well on digit classification tasks. We will use a slightly different version from the original LeNet implementation, replacing the sigmoid activations with tanh activations for the neurons"
   ]
  },
  {
   "cell_type": "code",
   "execution_count": 9,
   "metadata": {},
   "outputs": [],
   "source": [
    "data = mx.sym.var('data')\n",
    "# first conv layer\n",
    "conv1 = mx.sym.Convolution(data=data, kernel=(5,5), num_filter=20)\n",
    "tanh1 = mx.sym.Activation(data=conv1, act_type=\"tanh\")\n",
    "pool1 = mx.sym.Pooling(data=tanh1, pool_type=\"max\", kernel=(2,2), stride=(2,2))\n",
    "# second conv layer\n",
    "conv2 = mx.sym.Convolution(data=pool1, kernel=(5,5), num_filter=50)\n",
    "tanh2 = mx.sym.Activation(data=conv2, act_type=\"tanh\")\n",
    "pool2 = mx.sym.Pooling(data=tanh2, pool_type=\"max\", kernel=(2,2), stride=(2,2))\n",
    "# first fullc layer\n",
    "flatten = mx.sym.flatten(data=pool2)\n",
    "fc1 = mx.symbol.FullyConnected(data=flatten, num_hidden=500)\n",
    "tanh3 = mx.sym.Activation(data=fc1, act_type=\"tanh\")\n",
    "# second fullc\n",
    "fc2 = mx.sym.FullyConnected(data=tanh3, num_hidden=10)\n",
    "# softmax loss\n",
    "lenet = mx.sym.SoftmaxOutput(data=fc2, name='softmax')"
   ]
  },
  {
   "cell_type": "markdown",
   "metadata": {},
   "source": [
    "![png](https://raw.githubusercontent.com/dmlc/web-data/master/mxnet/image/conv_mnist.png)\n",
    "\n",
    "**Figure 3:** First conv + pooling layer in LeNet.\n",
    "\n",
    "Now we train LeNet with the same hyper-parameters as before. Note that, if a GPU is available, we recommend using it. This greatly speeds up computation given that LeNet is more complex and compute-intensive than the previous multilayer perceptron. To do so, we only need to change `mx.cpu()` to `mx.gpu()` and MXNet takes care of the rest. Just like before, we'll stop training after 10 epochs."
   ]
  },
  {
   "cell_type": "code",
   "execution_count": 10,
   "metadata": {},
   "outputs": [
    {
     "name": "stderr",
     "output_type": "stream",
     "text": [
      "INFO:root:Epoch[0] Batch [100]\tSpeed: 64613.54 samples/sec\taccuracy=0.114653\n",
      "INFO:root:Epoch[0] Batch [200]\tSpeed: 67285.31 samples/sec\taccuracy=0.112900\n",
      "INFO:root:Epoch[0] Batch [300]\tSpeed: 68280.89 samples/sec\taccuracy=0.108800\n",
      "INFO:root:Epoch[0] Batch [400]\tSpeed: 68738.57 samples/sec\taccuracy=0.109500\n",
      "INFO:root:Epoch[0] Batch [500]\tSpeed: 68768.78 samples/sec\taccuracy=0.112800\n",
      "INFO:root:Epoch[0] Train-accuracy=0.113939\n",
      "INFO:root:Epoch[0] Time cost=0.986\n",
      "INFO:root:Epoch[0] Validation-accuracy=0.113500\n",
      "INFO:root:Epoch[1] Batch [100]\tSpeed: 66751.29 samples/sec\taccuracy=0.176733\n",
      "INFO:root:Epoch[1] Batch [200]\tSpeed: 68615.78 samples/sec\taccuracy=0.678000\n",
      "INFO:root:Epoch[1] Batch [300]\tSpeed: 68604.44 samples/sec\taccuracy=0.868100\n",
      "INFO:root:Epoch[1] Batch [400]\tSpeed: 68554.65 samples/sec\taccuracy=0.907300\n",
      "INFO:root:Epoch[1] Batch [500]\tSpeed: 68466.70 samples/sec\taccuracy=0.923000\n",
      "INFO:root:Epoch[1] Train-accuracy=0.937475\n",
      "INFO:root:Epoch[1] Time cost=0.883\n",
      "INFO:root:Epoch[1] Validation-accuracy=0.949900\n",
      "INFO:root:Epoch[2] Batch [100]\tSpeed: 66879.97 samples/sec\taccuracy=0.948317\n",
      "INFO:root:Epoch[2] Batch [200]\tSpeed: 68767.99 samples/sec\taccuracy=0.958300\n",
      "INFO:root:Epoch[2] Batch [300]\tSpeed: 68401.49 samples/sec\taccuracy=0.956400\n",
      "INFO:root:Epoch[2] Batch [400]\tSpeed: 68608.03 samples/sec\taccuracy=0.965300\n",
      "INFO:root:Epoch[2] Batch [500]\tSpeed: 68762.13 samples/sec\taccuracy=0.965200\n",
      "INFO:root:Epoch[2] Train-accuracy=0.967576\n",
      "INFO:root:Epoch[2] Time cost=0.882\n",
      "INFO:root:Epoch[2] Validation-accuracy=0.973800\n",
      "INFO:root:Epoch[3] Batch [100]\tSpeed: 66948.62 samples/sec\taccuracy=0.972178\n",
      "INFO:root:Epoch[3] Batch [200]\tSpeed: 68881.49 samples/sec\taccuracy=0.975300\n",
      "INFO:root:Epoch[3] Batch [300]\tSpeed: 68962.35 samples/sec\taccuracy=0.973200\n",
      "INFO:root:Epoch[3] Batch [400]\tSpeed: 69326.08 samples/sec\taccuracy=0.975800\n",
      "INFO:root:Epoch[3] Batch [500]\tSpeed: 68977.44 samples/sec\taccuracy=0.976600\n",
      "INFO:root:Epoch[3] Train-accuracy=0.975657\n",
      "INFO:root:Epoch[3] Time cost=0.877\n",
      "INFO:root:Epoch[3] Validation-accuracy=0.980000\n",
      "INFO:root:Epoch[4] Batch [100]\tSpeed: 65888.71 samples/sec\taccuracy=0.979505\n",
      "INFO:root:Epoch[4] Batch [200]\tSpeed: 68250.45 samples/sec\taccuracy=0.980700\n",
      "INFO:root:Epoch[4] Batch [300]\tSpeed: 68435.97 samples/sec\taccuracy=0.980000\n",
      "INFO:root:Epoch[4] Batch [400]\tSpeed: 66850.34 samples/sec\taccuracy=0.982300\n",
      "INFO:root:Epoch[4] Batch [500]\tSpeed: 68399.59 samples/sec\taccuracy=0.982100\n",
      "INFO:root:Epoch[4] Train-accuracy=0.980505\n",
      "INFO:root:Epoch[4] Time cost=0.890\n",
      "INFO:root:Epoch[4] Validation-accuracy=0.982800\n",
      "INFO:root:Epoch[5] Batch [100]\tSpeed: 66005.57 samples/sec\taccuracy=0.983564\n",
      "INFO:root:Epoch[5] Batch [200]\tSpeed: 68785.24 samples/sec\taccuracy=0.985200\n",
      "INFO:root:Epoch[5] Batch [300]\tSpeed: 69053.41 samples/sec\taccuracy=0.984700\n",
      "INFO:root:Epoch[5] Batch [400]\tSpeed: 68650.03 samples/sec\taccuracy=0.985500\n",
      "INFO:root:Epoch[5] Batch [500]\tSpeed: 68647.89 samples/sec\taccuracy=0.986200\n",
      "INFO:root:Epoch[5] Train-accuracy=0.984343\n",
      "INFO:root:Epoch[5] Time cost=0.883\n",
      "INFO:root:Epoch[5] Validation-accuracy=0.984600\n",
      "INFO:root:Epoch[6] Batch [100]\tSpeed: 66457.05 samples/sec\taccuracy=0.985644\n",
      "INFO:root:Epoch[6] Batch [200]\tSpeed: 68489.06 samples/sec\taccuracy=0.987200\n",
      "INFO:root:Epoch[6] Batch [300]\tSpeed: 68804.31 samples/sec\taccuracy=0.987300\n",
      "INFO:root:Epoch[6] Batch [400]\tSpeed: 68868.14 samples/sec\taccuracy=0.988100\n",
      "INFO:root:Epoch[6] Batch [500]\tSpeed: 68681.28 samples/sec\taccuracy=0.988600\n",
      "INFO:root:Epoch[6] Train-accuracy=0.986566\n",
      "INFO:root:Epoch[6] Time cost=0.882\n",
      "INFO:root:Epoch[6] Validation-accuracy=0.986700\n",
      "INFO:root:Epoch[7] Batch [100]\tSpeed: 66661.22 samples/sec\taccuracy=0.988713\n",
      "INFO:root:Epoch[7] Batch [200]\tSpeed: 69100.05 samples/sec\taccuracy=0.989000\n",
      "INFO:root:Epoch[7] Batch [300]\tSpeed: 68660.26 samples/sec\taccuracy=0.988800\n",
      "INFO:root:Epoch[7] Batch [400]\tSpeed: 68558.46 samples/sec\taccuracy=0.989900\n",
      "INFO:root:Epoch[7] Batch [500]\tSpeed: 68821.36 samples/sec\taccuracy=0.990000\n",
      "INFO:root:Epoch[7] Train-accuracy=0.988586\n",
      "INFO:root:Epoch[7] Time cost=0.881\n",
      "INFO:root:Epoch[7] Validation-accuracy=0.987400\n",
      "INFO:root:Epoch[8] Batch [100]\tSpeed: 66475.06 samples/sec\taccuracy=0.990198\n",
      "INFO:root:Epoch[8] Batch [200]\tSpeed: 68828.25 samples/sec\taccuracy=0.990200\n",
      "INFO:root:Epoch[8] Batch [300]\tSpeed: 68840.11 samples/sec\taccuracy=0.990400\n",
      "INFO:root:Epoch[8] Batch [400]\tSpeed: 68605.79 samples/sec\taccuracy=0.991000\n",
      "INFO:root:Epoch[8] Batch [500]\tSpeed: 68455.41 samples/sec\taccuracy=0.991800\n",
      "INFO:root:Epoch[8] Train-accuracy=0.989697\n",
      "INFO:root:Epoch[8] Time cost=0.883\n",
      "INFO:root:Epoch[8] Validation-accuracy=0.987900\n",
      "INFO:root:Epoch[9] Batch [100]\tSpeed: 64686.78 samples/sec\taccuracy=0.991089\n",
      "INFO:root:Epoch[9] Batch [200]\tSpeed: 68341.75 samples/sec\taccuracy=0.991600\n",
      "INFO:root:Epoch[9] Batch [300]\tSpeed: 68627.23 samples/sec\taccuracy=0.991900\n",
      "INFO:root:Epoch[9] Batch [400]\tSpeed: 68587.73 samples/sec\taccuracy=0.992200\n",
      "INFO:root:Epoch[9] Batch [500]\tSpeed: 68474.86 samples/sec\taccuracy=0.992700\n",
      "INFO:root:Epoch[9] Train-accuracy=0.991414\n",
      "INFO:root:Epoch[9] Time cost=0.887\n",
      "INFO:root:Epoch[9] Validation-accuracy=0.988100\n"
     ]
    }
   ],
   "source": [
    "lenet_model = mx.mod.Module(symbol=lenet, context=ctx)\n",
    "# train with the same\n",
    "lenet_model.fit(train_iter,\n",
    "                eval_data=val_iter,\n",
    "                optimizer='sgd',\n",
    "                optimizer_params={'learning_rate':0.1},\n",
    "                eval_metric='acc',\n",
    "                batch_end_callback = mx.callback.Speedometer(batch_size, 100),\n",
    "                num_epoch=10)"
   ]
  },
  {
   "cell_type": "markdown",
   "metadata": {},
   "source": [
    "### Prediction\n",
    "\n",
    "Finally, we'll use the trained LeNet model to generate predictions for the test data."
   ]
  },
  {
   "cell_type": "code",
   "execution_count": 11,
   "metadata": {},
   "outputs": [
    {
     "name": "stdout",
     "output_type": "stream",
     "text": [
      "EvalMetric: {'accuracy': 0.98809999999999998}\n"
     ]
    }
   ],
   "source": [
    "test_iter = mx.io.NDArrayIter(mnist['test_data'], None, batch_size)\n",
    "prob = lenet_model.predict(test_iter)\n",
    "test_iter = mx.io.NDArrayIter(mnist['test_data'], mnist['test_label'], batch_size)\n",
    "# predict accuracy for lenet\n",
    "acc = mx.metric.Accuracy()\n",
    "lenet_model.score(test_iter, acc)\n",
    "print(acc)\n",
    "assert acc.get()[1] > 0.98, \"Achieved accuracy (%f) is lower than expected (0.98)\" % acc.get()[1]"
   ]
  },
  {
   "cell_type": "markdown",
   "metadata": {},
   "source": [
    "If all went well, we should see a higher accuracy metric for predictions made using LeNet. With CNN we should be able to correctly predict around 98% of all test images.\n",
    "\n",
    "## Summary\n",
    "\n",
    "In this tutorial, we have learned how to use MXNet to solve a standard computer vision problem: classifying images of hand written digits. You have seen how to quickly and easily build, train and evaluate models such as MLP and CNN with MXNet.\n",
    "\n",
    "\n",
    "<!-- INSERT SOURCE DOWNLOAD BUTTONS -->\n"
   ]
  },
  {
   "cell_type": "code",
   "execution_count": null,
   "metadata": {},
   "outputs": [],
   "source": []
  }
 ],
 "metadata": {
  "display_name": "",
  "kernelspec": {
   "display_name": "conda_mxnet_p36",
   "language": "python",
   "name": "conda_mxnet_p36"
  },
  "language_info": {
   "codemirror_mode": {
    "name": "ipython",
    "version": 3
   },
   "file_extension": ".py",
   "mimetype": "text/x-python",
   "name": "python",
   "nbconvert_exporter": "python",
   "pygments_lexer": "ipython3",
   "version": "3.6.5"
  },
  "name": ""
 },
 "nbformat": 4,
 "nbformat_minor": 2
}
